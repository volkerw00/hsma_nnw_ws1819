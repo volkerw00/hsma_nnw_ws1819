{
 "cells": [
  {
   "cell_type": "markdown",
   "metadata": {},
   "source": [
    "# NNW-Übung 4"
   ]
  },
  {
   "cell_type": "markdown",
   "metadata": {},
   "source": [
    "## 1 Mehrschichtes Netz - klassisch"
   ]
  },
  {
   "cell_type": "markdown",
   "metadata": {},
   "source": [
    "### a) \n",
    "Vollziehen Sie den Code des einfachen 2-schichtigen Netzes in der Datei `NNW_P4_A1_unvollstaendig.py` nach."
   ]
  },
  {
   "cell_type": "code",
   "execution_count": 1,
   "metadata": {},
   "outputs": [
    {
     "ename": "ImportError",
     "evalue": "\nImporting the multiarray numpy extension module failed.  Most\nlikely you are trying to import a failed build of numpy.\nIf you're working with a numpy git repo, try `git clean -xdf` (removes all\nfiles not under version control).  Otherwise reinstall numpy.\n\nOriginal error was: cannot import name 'multiarray'\n",
     "output_type": "error",
     "traceback": [
      "\u001b[1;31m---------------------------------------------------------------------------\u001b[0m",
      "\u001b[1;31mImportError\u001b[0m                               Traceback (most recent call last)",
      "\u001b[1;32mC:\\usr\\bin\\python\\anaconda\\3\\lib\\site-packages\\numpy\\core\\__init__.py\u001b[0m in \u001b[0;36m<module>\u001b[1;34m\u001b[0m\n\u001b[0;32m     15\u001b[0m \u001b[1;32mtry\u001b[0m\u001b[1;33m:\u001b[0m\u001b[1;33m\u001b[0m\u001b[1;33m\u001b[0m\u001b[0m\n\u001b[1;32m---> 16\u001b[1;33m     \u001b[1;32mfrom\u001b[0m \u001b[1;33m.\u001b[0m \u001b[1;32mimport\u001b[0m \u001b[0mmultiarray\u001b[0m\u001b[1;33m\u001b[0m\u001b[1;33m\u001b[0m\u001b[0m\n\u001b[0m\u001b[0;32m     17\u001b[0m \u001b[1;32mexcept\u001b[0m \u001b[0mImportError\u001b[0m \u001b[1;32mas\u001b[0m \u001b[0mexc\u001b[0m\u001b[1;33m:\u001b[0m\u001b[1;33m\u001b[0m\u001b[1;33m\u001b[0m\u001b[0m\n",
      "\u001b[1;31mImportError\u001b[0m: cannot import name 'multiarray'",
      "\nDuring handling of the above exception, another exception occurred:\n",
      "\u001b[1;31mImportError\u001b[0m                               Traceback (most recent call last)",
      "\u001b[1;32m<ipython-input-1-38a81191230d>\u001b[0m in \u001b[0;36m<module>\u001b[1;34m\u001b[0m\n\u001b[0;32m      1\u001b[0m \u001b[1;31m# based on: https://github.com/eakbas/tf-svm/blob/master/plot_boundary_on_data.py\u001b[0m\u001b[1;33m\u001b[0m\u001b[1;33m\u001b[0m\u001b[1;33m\u001b[0m\u001b[0m\n\u001b[1;32m----> 2\u001b[1;33m \u001b[1;32mimport\u001b[0m \u001b[0mnumpy\u001b[0m \u001b[1;32mas\u001b[0m \u001b[0mnp\u001b[0m\u001b[1;33m\u001b[0m\u001b[1;33m\u001b[0m\u001b[0m\n\u001b[0m\u001b[0;32m      3\u001b[0m \u001b[1;32mimport\u001b[0m \u001b[0mcopy\u001b[0m\u001b[1;33m\u001b[0m\u001b[1;33m\u001b[0m\u001b[0m\n\u001b[0;32m      4\u001b[0m \u001b[1;33m\u001b[0m\u001b[0m\n\u001b[0;32m      5\u001b[0m \u001b[1;32mfrom\u001b[0m \u001b[0mmatplotlib\u001b[0m \u001b[1;32mimport\u001b[0m \u001b[0mpyplot\u001b[0m \u001b[1;32mas\u001b[0m \u001b[0mplt\u001b[0m\u001b[1;33m\u001b[0m\u001b[1;33m\u001b[0m\u001b[0m\n",
      "\u001b[1;32mC:\\usr\\bin\\python\\anaconda\\3\\lib\\site-packages\\numpy\\__init__.py\u001b[0m in \u001b[0;36m<module>\u001b[1;34m\u001b[0m\n\u001b[0;32m    140\u001b[0m         \u001b[1;32mreturn\u001b[0m \u001b[0mloader\u001b[0m\u001b[1;33m(\u001b[0m\u001b[1;33m*\u001b[0m\u001b[0mpackages\u001b[0m\u001b[1;33m,\u001b[0m \u001b[1;33m**\u001b[0m\u001b[0moptions\u001b[0m\u001b[1;33m)\u001b[0m\u001b[1;33m\u001b[0m\u001b[1;33m\u001b[0m\u001b[0m\n\u001b[0;32m    141\u001b[0m \u001b[1;33m\u001b[0m\u001b[0m\n\u001b[1;32m--> 142\u001b[1;33m     \u001b[1;32mfrom\u001b[0m \u001b[1;33m.\u001b[0m \u001b[1;32mimport\u001b[0m \u001b[0madd_newdocs\u001b[0m\u001b[1;33m\u001b[0m\u001b[1;33m\u001b[0m\u001b[0m\n\u001b[0m\u001b[0;32m    143\u001b[0m     __all__ = ['add_newdocs',\n\u001b[0;32m    144\u001b[0m                \u001b[1;34m'ModuleDeprecationWarning'\u001b[0m\u001b[1;33m,\u001b[0m\u001b[1;33m\u001b[0m\u001b[1;33m\u001b[0m\u001b[0m\n",
      "\u001b[1;32mC:\\usr\\bin\\python\\anaconda\\3\\lib\\site-packages\\numpy\\add_newdocs.py\u001b[0m in \u001b[0;36m<module>\u001b[1;34m\u001b[0m\n\u001b[0;32m     11\u001b[0m \u001b[1;32mfrom\u001b[0m \u001b[0m__future__\u001b[0m \u001b[1;32mimport\u001b[0m \u001b[0mdivision\u001b[0m\u001b[1;33m,\u001b[0m \u001b[0mabsolute_import\u001b[0m\u001b[1;33m,\u001b[0m \u001b[0mprint_function\u001b[0m\u001b[1;33m\u001b[0m\u001b[1;33m\u001b[0m\u001b[0m\n\u001b[0;32m     12\u001b[0m \u001b[1;33m\u001b[0m\u001b[0m\n\u001b[1;32m---> 13\u001b[1;33m \u001b[1;32mfrom\u001b[0m \u001b[0mnumpy\u001b[0m\u001b[1;33m.\u001b[0m\u001b[0mlib\u001b[0m \u001b[1;32mimport\u001b[0m \u001b[0madd_newdoc\u001b[0m\u001b[1;33m\u001b[0m\u001b[1;33m\u001b[0m\u001b[0m\n\u001b[0m\u001b[0;32m     14\u001b[0m \u001b[1;33m\u001b[0m\u001b[0m\n\u001b[0;32m     15\u001b[0m \u001b[1;31m###############################################################################\u001b[0m\u001b[1;33m\u001b[0m\u001b[1;33m\u001b[0m\u001b[1;33m\u001b[0m\u001b[0m\n",
      "\u001b[1;32mC:\\usr\\bin\\python\\anaconda\\3\\lib\\site-packages\\numpy\\lib\\__init__.py\u001b[0m in \u001b[0;36m<module>\u001b[1;34m\u001b[0m\n\u001b[0;32m      6\u001b[0m \u001b[1;32mfrom\u001b[0m \u001b[0mnumpy\u001b[0m\u001b[1;33m.\u001b[0m\u001b[0mversion\u001b[0m \u001b[1;32mimport\u001b[0m \u001b[0mversion\u001b[0m \u001b[1;32mas\u001b[0m \u001b[0m__version__\u001b[0m\u001b[1;33m\u001b[0m\u001b[1;33m\u001b[0m\u001b[0m\n\u001b[0;32m      7\u001b[0m \u001b[1;33m\u001b[0m\u001b[0m\n\u001b[1;32m----> 8\u001b[1;33m \u001b[1;32mfrom\u001b[0m \u001b[1;33m.\u001b[0m\u001b[0mtype_check\u001b[0m \u001b[1;32mimport\u001b[0m \u001b[1;33m*\u001b[0m\u001b[1;33m\u001b[0m\u001b[1;33m\u001b[0m\u001b[0m\n\u001b[0m\u001b[0;32m      9\u001b[0m \u001b[1;32mfrom\u001b[0m \u001b[1;33m.\u001b[0m\u001b[0mindex_tricks\u001b[0m \u001b[1;32mimport\u001b[0m \u001b[1;33m*\u001b[0m\u001b[1;33m\u001b[0m\u001b[1;33m\u001b[0m\u001b[0m\n\u001b[0;32m     10\u001b[0m \u001b[1;32mfrom\u001b[0m \u001b[1;33m.\u001b[0m\u001b[0mfunction_base\u001b[0m \u001b[1;32mimport\u001b[0m \u001b[1;33m*\u001b[0m\u001b[1;33m\u001b[0m\u001b[1;33m\u001b[0m\u001b[0m\n",
      "\u001b[1;32mC:\\usr\\bin\\python\\anaconda\\3\\lib\\site-packages\\numpy\\lib\\type_check.py\u001b[0m in \u001b[0;36m<module>\u001b[1;34m\u001b[0m\n\u001b[0;32m      9\u001b[0m            'common_type']\n\u001b[0;32m     10\u001b[0m \u001b[1;33m\u001b[0m\u001b[0m\n\u001b[1;32m---> 11\u001b[1;33m \u001b[1;32mimport\u001b[0m \u001b[0mnumpy\u001b[0m\u001b[1;33m.\u001b[0m\u001b[0mcore\u001b[0m\u001b[1;33m.\u001b[0m\u001b[0mnumeric\u001b[0m \u001b[1;32mas\u001b[0m \u001b[0m_nx\u001b[0m\u001b[1;33m\u001b[0m\u001b[1;33m\u001b[0m\u001b[0m\n\u001b[0m\u001b[0;32m     12\u001b[0m \u001b[1;32mfrom\u001b[0m \u001b[0mnumpy\u001b[0m\u001b[1;33m.\u001b[0m\u001b[0mcore\u001b[0m\u001b[1;33m.\u001b[0m\u001b[0mnumeric\u001b[0m \u001b[1;32mimport\u001b[0m \u001b[0masarray\u001b[0m\u001b[1;33m,\u001b[0m \u001b[0masanyarray\u001b[0m\u001b[1;33m,\u001b[0m \u001b[0marray\u001b[0m\u001b[1;33m,\u001b[0m \u001b[0misnan\u001b[0m\u001b[1;33m,\u001b[0m \u001b[0mzeros\u001b[0m\u001b[1;33m\u001b[0m\u001b[1;33m\u001b[0m\u001b[0m\n\u001b[0;32m     13\u001b[0m \u001b[1;32mfrom\u001b[0m \u001b[1;33m.\u001b[0m\u001b[0mufunclike\u001b[0m \u001b[1;32mimport\u001b[0m \u001b[0misneginf\u001b[0m\u001b[1;33m,\u001b[0m \u001b[0misposinf\u001b[0m\u001b[1;33m\u001b[0m\u001b[1;33m\u001b[0m\u001b[0m\n",
      "\u001b[1;32mC:\\usr\\bin\\python\\anaconda\\3\\lib\\site-packages\\numpy\\core\\__init__.py\u001b[0m in \u001b[0;36m<module>\u001b[1;34m\u001b[0m\n\u001b[0;32m     24\u001b[0m \u001b[0mOriginal\u001b[0m \u001b[0merror\u001b[0m \u001b[0mwas\u001b[0m\u001b[1;33m:\u001b[0m \u001b[1;33m%\u001b[0m\u001b[0ms\u001b[0m\u001b[1;33m\u001b[0m\u001b[1;33m\u001b[0m\u001b[0m\n\u001b[0;32m     25\u001b[0m \"\"\" % (exc,)\n\u001b[1;32m---> 26\u001b[1;33m     \u001b[1;32mraise\u001b[0m \u001b[0mImportError\u001b[0m\u001b[1;33m(\u001b[0m\u001b[0mmsg\u001b[0m\u001b[1;33m)\u001b[0m\u001b[1;33m\u001b[0m\u001b[1;33m\u001b[0m\u001b[0m\n\u001b[0m\u001b[0;32m     27\u001b[0m \u001b[1;32mfinally\u001b[0m\u001b[1;33m:\u001b[0m\u001b[1;33m\u001b[0m\u001b[1;33m\u001b[0m\u001b[0m\n\u001b[0;32m     28\u001b[0m     \u001b[1;32mfor\u001b[0m \u001b[0menvkey\u001b[0m \u001b[1;32min\u001b[0m \u001b[0menv_added\u001b[0m\u001b[1;33m:\u001b[0m\u001b[1;33m\u001b[0m\u001b[1;33m\u001b[0m\u001b[0m\n",
      "\u001b[1;31mImportError\u001b[0m: \nImporting the multiarray numpy extension module failed.  Most\nlikely you are trying to import a failed build of numpy.\nIf you're working with a numpy git repo, try `git clean -xdf` (removes all\nfiles not under version control).  Otherwise reinstall numpy.\n\nOriginal error was: cannot import name 'multiarray'\n"
     ]
    }
   ],
   "source": [
    "# based on: https://github.com/eakbas/tf-svm/blob/master/plot_boundary_on_data.py\n",
    "import numpy as np\n",
    "import copy\n",
    "\n",
    "from matplotlib import pyplot as plt\n",
    "from matplotlib import colors\n",
    "\n",
    "\n",
    "def plotTwoFeatures(X,T,pred_func):\n",
    "    if X.ndim!=2:\n",
    "        raise ValueError('X be a matrix (2 dimensional array).')\n",
    "    tp=False\n",
    "    if X.shape[0]!=2 and X.shape[1]==2: \n",
    "        X=X.T\n",
    "        tp=True\n",
    "    if X.shape[0]!=2:\n",
    "        raise ValueError('X must contain exactly 2 features.')\n",
    "        \n",
    "    # determine canvas borders\n",
    "    mins = np.amin(X,1); \n",
    "    mins = mins - 0.1*np.abs(mins);\n",
    "    maxs = np.amax(X,1); \n",
    "    maxs = maxs + 0.1*maxs;\n",
    "\n",
    "    ## generate dense grid\n",
    "    xs,ys = np.meshgrid(np.linspace(mins[0],maxs[0],300), \n",
    "            np.linspace(mins[1], maxs[1], 300));\n",
    "\n",
    "\n",
    "    # evaluate model on the dense grid\n",
    "    try:\n",
    "        Z = pred_func(np.c_[xs.flatten(), ys.flatten()].T);\n",
    "    except:\n",
    "        Z = pred_func(np.c_[xs.flatten(), ys.flatten()]);\n",
    "\n",
    "    if tp:\n",
    "        Z=Z.T\n",
    "    \n",
    "    if Z.ndim>1 and Z.shape[0]>1: # onehot? -> convert\n",
    "        Z=Z.argmax(0)\n",
    "    Z = Z.reshape(xs.shape)\n",
    "    \n",
    "    if T.ndim>1 and T.shape[0]>1: # onehot? -> convert\n",
    "        T=T.argmax(0)\n",
    "        \n",
    "    # Plot the contour and training examples\n",
    "    plt.contourf(xs, ys, Z, cmap=plt.cm.Spectral)\n",
    "    plt.scatter(X[0,:], X[1,:], c=T, s=50,\n",
    "            cmap=colors.ListedColormap(['orange', 'blue', 'green']))\n",
    "    plt.show()\n"
   ]
  },
  {
   "cell_type": "code",
   "execution_count": null,
   "metadata": {},
   "outputs": [],
   "source": [
    "# -*- coding: utf-8 -*-\n",
    "\"\"\"\n",
    "Created on Thu Sep 22 19:43:14 2016\n",
    "\n",
    "@author: Ivo\n",
    "\"\"\"\n",
    "import numpy as np\n",
    "import matplotlib.pyplot as plt\n",
    "\n",
    "#%% ErrorRate\n",
    "def ErrorRate(Y,T):\n",
    "    if Y.ndim==1 or Y.shape[0]==1:\n",
    "        errors=Y!=T\n",
    "        return errors.sum()/Y.size\n",
    "    else: # für mehrere Ausgaben in one-hot Kodierung:\n",
    "        errors=Y.argmax(0)!=T.argmax(0)\n",
    "        return errors.sum()/Y.shape[1]\n",
    "        \n",
    "#%%\n",
    "class MLN:\n",
    "    def __init__(self,dIn,hidden,cOut): # Konstruktor\n",
    "        np.random.seed(42)\n",
    "        self._b1=np.zeros((hidden,1))\n",
    "        self._W1=np.random.randn(hidden,dIn)/np.sqrt(dIn)\n",
    "        self._b2=np.zeros((cOut,1))\n",
    "        self._W2=np.random.randn(cOut,hidden)/np.sqrt(dIn)\n",
    "        if cOut==1:\n",
    "            self.neuron=self.ythreshold\n",
    "        else:\n",
    "            self.neuron=self.ythresholdMult\n",
    "    def net1(self,X):\n",
    "         return self._W1.dot(X)+self._b1\n",
    "    def z(self,X):\n",
    "         return np.tanh(self.net1(X))\n",
    "    def net2(self,Z):\n",
    "         return self._W2.dot(Z)+self._b2\n",
    "    def y(self,X):\n",
    "        return self.net2(self.z(X))\n",
    "\n",
    "    def ythreshold(self,X):\n",
    "        return self.y(X)>=0\n",
    "    \n",
    "    def onehot(self,T):\n",
    "        e=np.identity(self._W2.shape[0])\n",
    "        return e[:,T.astype(int)]\n",
    "    def ythresholdMult(self,X):\n",
    "        return self.onehot(self.y(X).argmax(0))\n",
    "\n",
    "    def backprop(self, X, T, Y, Z):\n",
    "        N = X.shape[1] \n",
    "        deltak = Y-T\n",
    "        deltaW2 = deltak.dot(Z.T)\n",
    "        deltaB2 = deltak.dot(np.ones([1,N]).T); # entspricht np.sum(deltak,1)\n",
    "  \n",
    "        deltaj = (1-Z**2)*(self._W2.T.dot(deltak));\n",
    "        # z: m*N, W2: c*m, deltak:c*N; das deltaj für jedes n soll sein \n",
    "        # zugehöriges (1-z_j^2) abbekommen\n",
    "        deltaW1 = deltaj.dot(X.T);\n",
    "        deltaB1 = deltaj.dot(np.ones([1,N]).T); # entspricht np.sum(deltaj,1)\n",
    "        return deltaW1, deltaB1, deltaW2, deltaB2\n",
    "    \n",
    "    def DeltaTrain(self, X, T, eta, maxIter, maxErrorRate):\n",
    "        best = self;\n",
    "        bestError = 2;\n",
    "        bestIt = 0;\n",
    "        N=X.shape[1]    # Anzahl Trainingsdaten\n",
    "        x0 = np.ones(N)[np.newaxis]\n",
    "        plt.ion() # interactive mode on\n",
    "        for it in range(maxIter):\n",
    "            Z = self.z(X)\n",
    "            Y = self.neuron(X)\n",
    "            err = ErrorRate(Y, T)\n",
    "            if (it%20) == 0:\n",
    "                print('#{} err:{}\\n{}\\n{}\\n{}\\n{}'.format(it,err,self._W1,self._b1,self._W2,self._b2))\n",
    "                plotTwoFeatures(X,T,self.neuron)\n",
    "                #älteres python: plt.pause(0.05) # warte auf GUI event loop\n",
    "            if err<bestError:\n",
    "                bestError = err\n",
    "                best = copy.copy(self)\n",
    "                bestIt = it\n",
    "            if err <= maxErrorRate:\n",
    "                break\n",
    "            deltaW1, deltaB1, deltaW2, deltaB2 = self.backprop(X,T,Y,Z)\n",
    "            self._W1-=eta*deltaW1/N\n",
    "            self._b1-=eta*deltaB1/N\n",
    "            self._W2-=eta*deltaW2/N\n",
    "            self._b2-=eta*deltaB2/N\n",
    "        self._W1=best._W1\n",
    "        self._b1=best._b1\n",
    "        self._W2=best._W2\n",
    "        self._b2=best._b2\n",
    "        print('#{} err:{}\\n{}\\n{}\\n{}\\n{}'.format(it,err,self._W1,self._b1,self._W2,self._b2))\n",
    "        plotTwoFeatures(X,T,self.neuron)\n",
    "        #älteres python: plt.pause(0.05) # warte auf GUI event loop\n",
    "        return bestError, bestIt\n",
    "\n",
    "#%% Iris-Daten Laden\n",
    "iris = np.loadtxt(\"iris.csv\",delimiter=',')\n",
    "X=iris[:,0:4].T\n",
    "T=iris[:,4]\n",
    "\n",
    "#%% Training mit 2 Iris-Blütenarten, Merkmale 0 und 1\n",
    "plt.figure()\n",
    "slnIris = MLN(2,1,1) # HU: 1 und 5 gut, 2,3,8 schlecht\n",
    "slnIris.DeltaTrain(X[:2,0:100],T[0:100],0.01,2000,0.00)\n",
    "slnIris.neuron(X[:2,:])\n",
    "#%% Training mit 3 Iris-Blütenarten, Merkmale 2 und 3\n",
    "plt.figure()\n",
    "slnIris = MLN(2,5,3)\n",
    "slnIris.DeltaTrain(X[2:4,:],slnIris.onehot(T),0.01,2000,0.04)\n",
    "slnIris.neuron(X[2:4,:]).argmax(0)\n",
    "\n"
   ]
  },
  {
   "cell_type": "markdown",
   "metadata": {},
   "source": [
    "# 2 Einstieg in Keras: Klasse Sequential\n"
   ]
  },
  {
   "cell_type": "markdown",
   "metadata": {},
   "source": [
    "## a)\n",
    "Importieren Sie Keras mit `from tensorflow import keras`."
   ]
  },
  {
   "cell_type": "code",
   "execution_count": null,
   "metadata": {},
   "outputs": [],
   "source": [
    "from tensorflow import keras"
   ]
  }
 ],
 "metadata": {
  "kernelspec": {
   "display_name": "Python 3",
   "language": "python",
   "name": "python3"
  },
  "language_info": {
   "codemirror_mode": {
    "name": "ipython",
    "version": 3
   },
   "file_extension": ".py",
   "mimetype": "text/x-python",
   "name": "python",
   "nbconvert_exporter": "python",
   "pygments_lexer": "ipython3",
   "version": "3.6.7"
  },
  "varInspector": {
   "cols": {
    "lenName": 16,
    "lenType": 16,
    "lenVar": 40
   },
   "kernels_config": {
    "python": {
     "delete_cmd_postfix": "",
     "delete_cmd_prefix": "del ",
     "library": "var_list.py",
     "varRefreshCmd": "print(var_dic_list())"
    },
    "r": {
     "delete_cmd_postfix": ") ",
     "delete_cmd_prefix": "rm(",
     "library": "var_list.r",
     "varRefreshCmd": "cat(var_dic_list()) "
    }
   },
   "types_to_exclude": [
    "module",
    "function",
    "builtin_function_or_method",
    "instance",
    "_Feature"
   ],
   "window_display": false
  }
 },
 "nbformat": 4,
 "nbformat_minor": 2
}
